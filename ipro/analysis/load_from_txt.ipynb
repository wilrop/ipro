{
 "cells": [
  {
   "cell_type": "code",
   "outputs": [],
   "source": [
    "import wandb\n",
    "import os\n",
    "import numpy as np\n",
    "from ipro.environments.bounding_boxes import get_bounding_box\n",
    "from ipro.utils.pareto import extreme_prune"
   ],
   "metadata": {
    "collapsed": false
   },
   "id": "a6e1043c020453da",
   "execution_count": null
  },
  {
   "cell_type": "code",
   "outputs": [],
   "source": [
    "api = wandb.Api(timeout=120)"
   ],
   "metadata": {
    "collapsed": false
   },
   "id": "ff896309e1eac3d1",
   "execution_count": null
  },
  {
   "cell_type": "code",
   "outputs": [],
   "source": [
    "def extract_eval_fronts_from_json(run, maximals):\n",
    "    output = run.file('output.log')\n",
    "    file = output.download(root=f'data/{env_id}/{alg}/', replace=True)\n",
    "    path = file.name\n",
    "\n",
    "    all_fronts = []\n",
    "    partial_front = None\n",
    "    eval_fronts = None\n",
    "\n",
    "    with open(path) as f:  # Open as a text file\n",
    "        # Read the file contents and generate a list of lines\n",
    "        lines = f.readlines()\n",
    "\n",
    "        for line in lines:\n",
    "            if 'Running with config:' in line:\n",
    "                if partial_front is not None:  # Add to the list if not the first.\n",
    "                    all_fronts.append(eval_fronts)\n",
    "\n",
    "                # Reset the partial front and eval_fronts.\n",
    "                partial_front = np.copy(maximals)\n",
    "                eval_fronts = [partial_front]\n",
    "            elif 'Found' in line:\n",
    "                split = line.split('[')[2].split(']')[0].split(' ')\n",
    "                point = []\n",
    "                for val in split:\n",
    "                    if not val == '':\n",
    "                        point.append(float(val))\n",
    "                partial_front = np.copy(np.vstack((partial_front, point)))\n",
    "                eval_fronts.append(partial_front)\n",
    "    \n",
    "    all_fronts.append(eval_fronts)  # Add the last one.\n",
    "    \n",
    "    return all_fronts"
   ],
   "metadata": {
    "collapsed": false
   },
   "id": "b8b3b6e44564a33c",
   "execution_count": null
  },
  {
   "cell_type": "code",
   "outputs": [],
   "source": [
    "files = {\n",
    "    \"deep-sea-treasure-concave-v0\": {\n",
    "        \"SN-MO-PPO\": 'wilrop/IPRO_dst_bayes_no_pretrain_8/0pq4alhl',\n",
    "        \"SN-MO-DQN\": 'wilrop/IPRO_dst_bayes_no_pretrain_9/daz0fqca',\n",
    "    }\n",
    "}\n",
    "\n",
    "for env_id, alg_dict in files.items():\n",
    "    print(f'Processing {env_id}')\n",
    "    if env_id == 'mo-reacher-concave-v0':\n",
    "        _, maximals, _ = get_bounding_box('mo-reacher-v4')\n",
    "    else:\n",
    "        _, maximals, _ = get_bounding_box(env_id)\n",
    "    for alg, run_path in alg_dict.items():\n",
    "        print(f'Processing {alg}')\n",
    "        run = api.run(run_path)\n",
    "        online_steps = run.config['oracle']['online_steps']\n",
    "        all_eval_fronts = extract_eval_fronts_from_json(run, maximals)\n",
    "\n",
    "        for seed, eval_fronts in enumerate(all_eval_fronts):\n",
    "            print(f'Processing seed {seed + 1}/{len(all_eval_fronts)}')\n",
    "            for i, front in enumerate(eval_fronts):\n",
    "                step = i * online_steps\n",
    "                front_path = os.path.join('fronts', env_id, alg, str(seed), f'front_{step}.npy')\n",
    "                os.makedirs(os.path.dirname(front_path), exist_ok=True)\n",
    "                np.save(front_path, front)\n",
    "\n",
    "            final_front = extreme_prune(np.copy(eval_fronts[-1]))\n",
    "            final_front_path = os.path.join('fronts', env_id, alg, str(seed), 'final_front.npy')\n",
    "            os.makedirs(os.path.dirname(final_front_path), exist_ok=True)\n",
    "            np.save(final_front_path, final_front)\n",
    "    print('---------')\n",
    "print(f'Finished!')"
   ],
   "metadata": {
    "collapsed": false
   },
   "id": "e153e213e03b66b6",
   "execution_count": null
  },
  {
   "cell_type": "code",
   "outputs": [],
   "source": [],
   "metadata": {
    "collapsed": false
   },
   "id": "f8d72d849369e6a9",
   "execution_count": null
  }
 ],
 "metadata": {
  "kernelspec": {
   "display_name": "Python 3",
   "language": "python",
   "name": "python3"
  },
  "language_info": {
   "codemirror_mode": {
    "name": "ipython",
    "version": 2
   },
   "file_extension": ".py",
   "mimetype": "text/x-python",
   "name": "python",
   "nbconvert_exporter": "python",
   "pygments_lexer": "ipython2",
   "version": "2.7.6"
  }
 },
 "nbformat": 4,
 "nbformat_minor": 5
}
