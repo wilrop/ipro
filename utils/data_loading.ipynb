{
 "cells": [
  {
   "cell_type": "code",
   "execution_count": null,
   "metadata": {
    "collapsed": true
   },
   "outputs": [],
   "source": [
    "import wandb\n",
    "import pandas as pd\n",
    "import numpy as np\n",
    "from collections import defaultdict"
   ]
  },
  {
   "cell_type": "code",
   "execution_count": null,
   "outputs": [],
   "source": [
    "api = wandb.Api(timeout=120)\n",
    "runs = api.runs(\"wilrop/IPRO_runs\")\n",
    "env_id = \"mo-reacher-v4\""
   ],
   "metadata": {
    "collapsed": false
   }
  },
  {
   "cell_type": "code",
   "execution_count": null,
   "outputs": [],
   "source": [
    "parent_runs = {\n",
    "        'dqn': {\n",
    "            'deep-sea-treasure-concave-v0': ['wilrop/IPRO_opt/2tn5owa1',\n",
    "                                             'wilrop/IPRO_opt/zetw2qex'],\n",
    "            'minecart-v0': [],\n",
    "            'mo-reacher-v4': ['wilrop/IPRO_opt/vbxkaso4']\n",
    "        },\n",
    "        'a2c': {\n",
    "            'deep-sea-treasure-concave-v0': ['wilrop/IPRO_opt/g347p7nz',\n",
    "                                             'wilrop/IPRO_opt/10sl3sct',\n",
    "                                             'wilrop/IPRO_opt/239dy8eu',\n",
    "                                             'wilrop/IPRO_opt/37hzrb0t',\n",
    "                                             'wilrop/IPRO_opt/2ilk1u5q',\n",
    "                                             'wilrop/IPRO_opt/2s5q3nff'],\n",
    "            'minecart-v0': [],\n",
    "            'mo-reacher-v4': ['wilrop/IPRO_opt/2ga1y2rc',\n",
    "                              'wilrop/IPRO_opt/2i8jgu31',\n",
    "                              'wilrop/IPRO_opt/34omm1q6',\n",
    "                              'wilrop/IPRO_opt/y5gcmdof',\n",
    "                              'wilrop/IPRO_opt/18kxy4la',\n",
    "                              'wilrop/IPRO_opt/2niygvug',\n",
    "                              'wilrop/IPRO_opt/1hf09bbk',\n",
    "                              'wilrop/IPRO_opt/3abwo2bu',\n",
    "                              'wilrop/IPRO_opt/2cfpvgbm']\n",
    "        },\n",
    "        'ppo': {\n",
    "            'deep-sea-treasure-concave-v0': ['wilrop/IPRO_opt/3gyzdum4',\n",
    "                                             'wilrop/IPRO_opt/g1dxgkl4'],\n",
    "            'minecart-v0': ['wilrop/IPRO_opt/14kyvvys',\n",
    "                            'wilrop/IPRO_opt/1ucq5ti1',\n",
    "                            'wilrop/IPRO_opt/31wg6d5l'],\n",
    "            'mo-reacher-v4': ['wilrop/IPRO_opt/3jbowwrd',\n",
    "                              'wilrop/IPRO_opt/3pzv9rk4',\n",
    "                              'wilrop/IPRO_opt/14jtu9k9',\n",
    "                              'wilrop/IPRO_opt/1xox36av',\n",
    "                              'wilrop/IPRO_opt/2je0ir5m',\n",
    "                              'wilrop/IPRO_opt/19jh6tg4']\n",
    "        }\n",
    "    }\n",
    "\n",
    "run_hists = {'dqn': defaultdict(list),\n",
    "             'a2c': defaultdict(list),\n",
    "             'ppo': defaultdict(list), }\n",
    "\n",
    "for run in runs:\n",
    "    if run.config['env_id'] == env_id:\n",
    "        name = run.name\n",
    "        components = name.split('__')\n",
    "        parent_run = run.config['parent_run_id']\n",
    "        alg = None\n",
    "        for key, values in parent_runs.items():\n",
    "            if parent_run in values[env_id]:\n",
    "                alg = key\n",
    "                break\n",
    "        if alg is not None:\n",
    "            run_hists[alg][parent_run].append((run.history(keys=['outer/hypervolume', 'outer/coverage']), run.config['online_steps']))\n",
    "            print(f'Added run to {alg} - {parent_run}')"
   ],
   "metadata": {
    "collapsed": false
   }
  },
  {
   "cell_type": "code",
   "execution_count": null,
   "outputs": [],
   "source": [
    "def extract_iter_hist(hist):\n",
    "    hypervolumes = hist['outer/hypervolume'].values.tolist()\n",
    "    coverages = list(np.clip(hist['outer/coverage'].values.tolist(), 0, 1))\n",
    "    return hypervolumes, coverages"
   ],
   "metadata": {
    "collapsed": false
   }
  },
  {
   "cell_type": "code",
   "execution_count": null,
   "outputs": [],
   "source": [
    "run_data = {'dqn': defaultdict(list),\n",
    "            'a2c': defaultdict(list),\n",
    "            'ppo': defaultdict(list), }\n",
    "\n",
    "for alg in run_hists:\n",
    "    print(f\"Extracting data for {alg}\")\n",
    "    for arg in run_hists[alg]:\n",
    "        print(f\"Extracting data for {alg} - {arg}\")\n",
    "        for seed, (hist, step_size) in enumerate(run_hists[alg][arg]):\n",
    "            print(f'Run {seed}')\n",
    "            hypervolumes, coverages = extract_iter_hist(hist)\n",
    "            run_data[alg][arg].append((hypervolumes, coverages, step_size))"
   ],
   "metadata": {
    "collapsed": false
   }
  },
  {
   "cell_type": "code",
   "execution_count": null,
   "outputs": [],
   "source": [
    "best_data = {'ppo': [],\n",
    "             'dqn': [],\n",
    "             'a2c': []}\n",
    "\n",
    "# Extract the best argument i.e. the argument with the largest mean final hypervolume\n",
    "max_iter = 0\n",
    "\n",
    "for alg in run_data:\n",
    "    best_arg = None\n",
    "    best_mean = -1\n",
    "    best_std = -1\n",
    "    for arg in run_data[alg]:\n",
    "        hypervolumes = [tpl[0] for tpl in run_data[alg][arg]]\n",
    "        final_hvs = [hv[-1] for hv in hypervolumes]\n",
    "        arg_mean = np.mean(final_hvs)\n",
    "        arg_std = np.std(final_hvs)\n",
    "        print(f\"Mean final hypervolume for {alg} - {arg}: {arg_mean}\")\n",
    "\n",
    "        if arg_mean > best_mean and len(run_data[alg][arg]) == 5:\n",
    "            best_mean = arg_mean\n",
    "            best_arg = arg\n",
    "            best_std = arg_std\n",
    "            max_iter = max(max_iter, max([len(hv) for hv in hypervolumes]))\n",
    "    print(f\"Best argument for {alg} is {best_arg} with final hypervolume {best_mean} +/- {best_std}\")\n",
    "    print('---')\n",
    "    best_data[alg] = run_data[alg][best_arg]"
   ],
   "metadata": {
    "collapsed": false
   }
  },
  {
   "cell_type": "code",
   "execution_count": null,
   "outputs": [],
   "source": [
    "def fill_iterations(hypervolumes, coverages, max_iter):\n",
    "    while len(hypervolumes) < max_iter:\n",
    "        hypervolumes.append(hypervolumes[-1])\n",
    "        coverages.append(coverages[-1])"
   ],
   "metadata": {
    "collapsed": false
   }
  },
  {
   "cell_type": "code",
   "execution_count": null,
   "outputs": [],
   "source": [
    "# Make dictionaries with the data for all seeds.\n",
    "for alg in best_data:\n",
    "    hv_dict = {alg: [], 'Step': [], 'Seed': []}\n",
    "    cov_dict = {alg: [], 'Step': [], 'Seed': []}\n",
    "\n",
    "    for seed, (hypervolumes, coverages, step_size) in enumerate(best_data[alg]):\n",
    "        fill_iterations(hypervolumes, coverages, max_iter)\n",
    "        global_steps = np.arange(len(hypervolumes)) * step_size\n",
    "        global_steps = global_steps.tolist()\n",
    "        hv_dict[alg].extend(hypervolumes)\n",
    "        cov_dict[alg].extend(coverages)\n",
    "        hv_dict['Step'].extend(global_steps)\n",
    "        cov_dict['Step'].extend(global_steps)\n",
    "        hv_dict['Seed'].extend([seed] * max_iter)\n",
    "        cov_dict['Seed'].extend([seed] * max_iter)\n",
    "\n",
    "    hv_df = pd.DataFrame.from_dict(hv_dict)\n",
    "    cov_df = pd.DataFrame.from_dict(cov_dict)\n",
    "    print(f\"Saving data for {alg}\")\n",
    "    hv_df.to_csv(f'../utils/results/{alg}_{env_id}_hv.csv', index=False)\n",
    "    cov_df.to_csv(f'../utils/results/{alg}_{env_id}_cov.csv', index=False)"
   ],
   "metadata": {
    "collapsed": false
   }
  },
  {
   "cell_type": "code",
   "execution_count": null,
   "outputs": [],
   "source": [],
   "metadata": {
    "collapsed": false
   }
  }
 ],
 "metadata": {
  "kernelspec": {
   "display_name": "Python 3",
   "language": "python",
   "name": "python3"
  },
  "language_info": {
   "codemirror_mode": {
    "name": "ipython",
    "version": 2
   },
   "file_extension": ".py",
   "mimetype": "text/x-python",
   "name": "python",
   "nbconvert_exporter": "python",
   "pygments_lexer": "ipython2",
   "version": "2.7.6"
  }
 },
 "nbformat": 4,
 "nbformat_minor": 0
}
