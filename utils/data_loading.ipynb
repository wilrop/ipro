{
 "cells": [
  {
   "cell_type": "code",
   "execution_count": null,
   "metadata": {
    "collapsed": true
   },
   "outputs": [],
   "source": [
    "import wandb\n",
    "import pandas as pd\n",
    "import numpy as np\n",
    "from collections import defaultdict"
   ]
  },
  {
   "cell_type": "code",
   "execution_count": null,
   "outputs": [],
   "source": [
    "# Setup experiments to extract data from.\n",
    "api = wandb.Api(timeout=120)\n",
    "runs = api.runs(\"wilrop/IPRO_runs\")\n",
    "algs = [\"SN-MO-PPO\", \"SN-MO-A2C\", \"SN-MO-DQN\"]\n",
    "env_ids = [\"deep-sea-treasure-concave-v0\", \"minecart-v0\", \"mo-reacher-v4\"]"
   ],
   "metadata": {
    "collapsed": false
   }
  },
  {
   "cell_type": "code",
   "execution_count": null,
   "outputs": [],
   "source": [
    "# Group runs based on Parent runs, env_id and algorithm.\n",
    "run_hists = {env_id: {alg: defaultdict(list) for alg in algs} for env_id in env_ids}\n",
    "\n",
    "for run in runs:\n",
    "    env_id = run.config['env_id']\n",
    "    alg = run.config['alg_name']\n",
    "    if env_id in env_ids and alg in algs:\n",
    "        parent_run = run.config['parent_run_id']\n",
    "        run_hists[env_id][alg][parent_run].append(run)\n",
    "        print(f'Added run to {alg} - {parent_run}')"
   ],
   "metadata": {
    "collapsed": false
   }
  },
  {
   "cell_type": "code",
   "outputs": [],
   "source": [
    "# Keep only the best runs.\n",
    "best_data = {env_id: {alg: None for alg in algs} for env_id in env_ids}\n",
    "max_iterations = {env_id: 0 for env_id in env_ids}\n",
    "\n",
    "for env_id in run_hists:\n",
    "    for alg in run_hists[env_id]:\n",
    "        best_hv = -1\n",
    "        for parent, runs in run_hists[env_id][alg].items():\n",
    "            hvs = [run.summary['outer/hypervolume'] for run in runs]\n",
    "            mean_hv = np.mean(hvs)\n",
    "            if mean_hv > best_hv:\n",
    "                if len(runs) == 5:\n",
    "                    best_hv = mean_hv\n",
    "                    best_data[env_id][alg] = (parent, runs)\n",
    "                else:\n",
    "                    print(f\"Skipping {alg} - {env_id} - {parent} with mean {mean_hv} and {len(runs)} runs\")\n",
    "                \n",
    "# Print results\n",
    "for env_id in best_data:\n",
    "    for alg, (parent, runs) in best_data[env_id].items():\n",
    "        hvs = np.array([run.summary['outer/hypervolume'] for run in runs])\n",
    "        print(f\"Best run for {alg} - {env_id} - {parent}\")\n",
    "        print(f\"HVs: {hvs} - Mean: {np.mean(hvs)}\")"
   ],
   "metadata": {
    "collapsed": false
   },
   "execution_count": null
  },
  {
   "cell_type": "code",
   "outputs": [],
   "source": [
    "# Extract the maximum number of iterations.\n",
    "max_iterations = {env_id: 0 for env_id in env_ids}\n",
    "for env_id in best_data:\n",
    "    for alg in best_data[env_id]:\n",
    "        parent, runs = best_data[env_id][alg]\n",
    "        for run in runs:\n",
    "            iters = run.history(keys=['_step']).iloc[-1]['_step'] + 1\n",
    "            max_iterations[env_id] = max(max_iterations[env_id], iters)\n",
    "print(max_iterations)"
   ],
   "metadata": {
    "collapsed": false
   },
   "execution_count": null
  },
  {
   "cell_type": "code",
   "outputs": [],
   "source": [
    "def fill_iterations(hypervolumes, coverages, max_iter):\n",
    "    \"\"\"Fill the hypervolume and coverage lists with the last value to have the same length as max_iter.\n",
    "    \n",
    "    Args:\n",
    "        hypervolumes (list): List of hypervolumes.\n",
    "        coverages (list): List of coverages.\n",
    "        max_iter (int): Maximum number of iterations.\n",
    "\n",
    "    Returns:\n",
    "        None\n",
    "    \"\"\"\n",
    "    while len(hypervolumes) < max_iter:\n",
    "        hypervolumes.append(hypervolumes[-1])\n",
    "        coverages.append(coverages[-1])"
   ],
   "metadata": {
    "collapsed": false
   },
   "execution_count": null
  },
  {
   "cell_type": "code",
   "outputs": [],
   "source": [
    "# Make dictionaries with the data and save to csv.\n",
    "for env_id in best_data:\n",
    "    max_iter = max_iterations[env_id]\n",
    "    for alg in best_data[env_id]:\n",
    "        parent, runs = best_data[env_id][alg]\n",
    "        hv_dict = {alg: [], 'Step': [], 'Seed': []}\n",
    "        cov_dict = {alg: [], 'Step': [], 'Seed': []}\n",
    "\n",
    "        for seed, run in enumerate(runs):\n",
    "            hist = run.history(keys=['outer/hypervolume', 'outer/coverage'])\n",
    "            hypervolumes = hist['outer/hypervolume'].values.tolist()\n",
    "            coverages = list(np.clip(hist['outer/coverage'].values.tolist(), 0, 1))\n",
    "            step_size = run.config['online_steps']\n",
    "            fill_iterations(hypervolumes, coverages, max_iter)\n",
    "            global_steps = np.arange(len(hypervolumes)) * step_size\n",
    "            global_steps = global_steps.tolist()\n",
    "            hv_dict[alg].extend(hypervolumes)\n",
    "            cov_dict[alg].extend(coverages)\n",
    "            hv_dict['Step'].extend(global_steps)\n",
    "            cov_dict['Step'].extend(global_steps)\n",
    "            hv_dict['Seed'].extend([seed] * max_iter)\n",
    "            cov_dict['Seed'].extend([seed] * max_iter)\n",
    "\n",
    "        hv_df = pd.DataFrame.from_dict(hv_dict)\n",
    "        cov_df = pd.DataFrame.from_dict(cov_dict)\n",
    "        print(f\"Saving data for {env_id} - {alg}\")\n",
    "        hv_df.to_csv(f'../utils/results/{alg}_{env_id}_hv.csv', index=False)\n",
    "        cov_df.to_csv(f'../utils/results/{alg}_{env_id}_cov.csv', index=False)"
   ],
   "metadata": {
    "collapsed": false
   },
   "execution_count": null
  },
  {
   "cell_type": "code",
   "outputs": [],
   "source": [],
   "metadata": {
    "collapsed": false
   }
  }
 ],
 "metadata": {
  "kernelspec": {
   "display_name": "Python 3",
   "language": "python",
   "name": "python3"
  },
  "language_info": {
   "codemirror_mode": {
    "name": "ipython",
    "version": 2
   },
   "file_extension": ".py",
   "mimetype": "text/x-python",
   "name": "python",
   "nbconvert_exporter": "python",
   "pygments_lexer": "ipython2",
   "version": "2.7.6"
  }
 },
 "nbformat": 4,
 "nbformat_minor": 0
}
