{
 "cells": [
  {
   "cell_type": "code",
   "execution_count": 1,
   "id": "initial_id",
   "metadata": {
    "collapsed": true,
    "ExecuteTime": {
     "end_time": "2023-10-27T08:48:07.952921Z",
     "start_time": "2023-10-27T08:48:07.440374Z"
    }
   },
   "outputs": [],
   "source": [
    "import wandb\n",
    "from collections import OrderedDict"
   ]
  },
  {
   "cell_type": "code",
   "execution_count": 2,
   "outputs": [],
   "source": [
    "def tabilize(results):\n",
    "    names = results.keys()\n",
    "    raw_data = list(results.values())\n",
    "    assert len(names) == len(raw_data)\n",
    "\n",
    "    max_len = max([len(v) for v in list(names)])\n",
    "    names_padded = [v + ' ' * (max_len - len(v)) for v in names]\n",
    "\n",
    "    data = []\n",
    "    for row in raw_data:\n",
    "        new_row = []\n",
    "        for v in row:\n",
    "            if isinstance(v, list):\n",
    "                new_row.append(tuple(v))\n",
    "            elif v > 999:\n",
    "                new_row.append(\"{:.1e}\".format(v))\n",
    "            else:\n",
    "                new_row.append(v)\n",
    "        data.append(new_row)\n",
    "\n",
    "    for i_row in range(len(names)):\n",
    "        line = ''\n",
    "        line += names_padded[i_row]\n",
    "        for idx, v in enumerate(data[i_row]):\n",
    "            line += ' & '\n",
    "            line += str(v)\n",
    "        if i_row < len(names) - 1:\n",
    "            line += ' \\\\\\\\'\n",
    "        print(line)"
   ],
   "metadata": {
    "collapsed": false,
    "ExecuteTime": {
     "end_time": "2023-10-27T08:48:07.953238Z",
     "start_time": "2023-10-27T08:48:07.944335Z"
    }
   },
   "id": "262e8819d7c0e4d2"
  },
  {
   "cell_type": "code",
   "execution_count": 3,
   "outputs": [],
   "source": [
    "api = wandb.Api(timeout=120)\n",
    "rep_runs = {\n",
    "    'dqn': ['wilrop/IPRO_experiments/3fqexbta', 'wilrop/IPRO_experiments/2zv7vfae', 'wilrop/IPRO_experiments/w296zptm'],\n",
    "    'a2c': ['wilrop/IPRO_experiments/3w3soi3r', 'wilrop/IPRO_experiments/2zn4p2aa', 'wilrop/IPRO_experiments/vg12m21e'],\n",
    "    'ppo': ['wilrop/IPRO_experiments/3ernl4hw', 'wilrop/IPRO_experiments/517iwubp', 'wilrop/IPRO_experiments/yst0dps6']}\n",
    "configs = {\n",
    "    'scale': [],\n",
    "    '$\\rho$': [],\n",
    "    'global\\_steps': [],\n",
    "    'critic\\_hidden': [],\n",
    "    'lr\\_critic': [],\n",
    "    'actor\\_hidden': [],\n",
    "    'lr\\_actor': [],\n",
    "    'n\\_steps': [],\n",
    "    'gae\\_lambda': [],\n",
    "    'normalise\\_advantage': [],\n",
    "    'e\\_coef': [],\n",
    "    'v\\_coef': [],\n",
    "    'max\\_grad\\_norm': [],\n",
    "    'clip\\_coef': [],\n",
    "    'num\\_envs': [],\n",
    "    'anneal\\_lr': [],\n",
    "    'clip\\_range\\_vf': [],\n",
    "    'update\\_epochs': [],\n",
    "    'num\\_minibatches': [],\n",
    "    'batch\\_size': [],\n",
    "    'buffer\\_size': [],\n",
    "    'soft\\_update': [],\n",
    "    'epsilon\\_start': [],\n",
    "    'epsilon\\_end': [],\n",
    "    'exploration\\_frac': [],\n",
    "    'learning\\_start': [],\n",
    "}\n",
    "config_names = OrderedDict([\n",
    "    ('scale', 'scale'),\n",
    "    ('aug', '$\\\\rho$'),\n",
    "    ('global_steps', 'global\\_steps'),\n",
    "    ('critic_hidden', 'critic\\_hidden'),\n",
    "    ('hidden_layers', 'critic\\_hidden'),\n",
    "    ('lr_critic', 'lr\\_critic'),\n",
    "    ('lr', 'lr\\_critic'),\n",
    "    ('actor_hidden', 'actor\\_hidden'),\n",
    "    ('lr_actor', 'lr\\_actor'),\n",
    "    ('n_steps', 'n\\_steps'),\n",
    "    ('gae_lambda', 'gae\\_lambda'),\n",
    "    ('normalize_advantage', 'normalise\\_advantage'),\n",
    "    ('e_coef', 'e\\_coef'),\n",
    "    ('v_coef', 'v\\_coef'),\n",
    "    ('max_grad_norm', 'max\\_grad\\_norm'),\n",
    "    ('clip_coef', 'clip\\_coef'),\n",
    "    ('num_envs', 'num\\_envs'),\n",
    "    ('anneal_lr', 'anneal\\_lr'),\n",
    "    ('clip_range_vf', 'clip\\_range\\_vf'),\n",
    "    ('update_epochs', 'update\\_epochs'),\n",
    "    ('num_minibatches', 'num\\_minibatches'),\n",
    "    ('batch_size', 'batch\\_size'),\n",
    "    ('buffer_size', 'buffer\\_size'),\n",
    "    ('soft_update', 'soft\\_update'),\n",
    "    ('tau', 'soft\\_update'),\n",
    "    ('epsilon_start', 'epsilon\\_start'),\n",
    "    ('epsilon_end', 'epsilon\\_end'),\n",
    "    ('exploration_frac', 'exploration\\_frac'),\n",
    "    ('learning_start', 'learning\\_start'),\n",
    "])"
   ],
   "metadata": {
    "collapsed": false,
    "ExecuteTime": {
     "end_time": "2023-10-27T08:48:07.956501Z",
     "start_time": "2023-10-27T08:48:07.946221Z"
    }
   },
   "id": "d80d3ae8d308c33d"
  },
  {
   "cell_type": "code",
   "execution_count": 4,
   "outputs": [
    {
     "name": "stdout",
     "output_type": "stream",
     "text": [
      "scale             & 100 & 10 & 500 \\\\\n",
      "$\\rho$            & 0.001 & 0.001 & 0.01 \\\\\n",
      "global\\_steps     & 6.0e+04 & 1.0e+06 & 1.0e+05 \\\\\n",
      "critic\\_hidden    & (256, 256, 256) & (128, 128) & (256, 256, 256) \\\\\n",
      "lr\\_critic        & 0.0003 & 0.0003 & 0.001 \\\\\n",
      "batch\\_size       & 32 & 64 & 32 \\\\\n",
      "buffer\\_size      & 1.0e+04 & 1.0e+05 & 5.0e+04 \\\\\n",
      "soft\\_update      & 0.1 & 0.1 & 0.1 \\\\\n",
      "epsilon\\_start    & 0.7 & 0.5 & 0.5 \\\\\n",
      "epsilon\\_end      & 0.2 & 0.2 & 0.1 \\\\\n",
      "exploration\\_frac & 0.1 & 0.1 & 0.3 \\\\\n",
      "learning\\_start   & 1.0e+04 & 2.0e+03 & 1.0e+03\n",
      "------------\n",
      "scale                & 100 & 100 & 1 \\\\\n",
      "$\\rho$               & 0 & 0.001 & 0.01 \\\\\n",
      "global\\_steps        & 2.0e+05 & 1.5e+06 & 5.0e+05 \\\\\n",
      "critic\\_hidden       & (128, 128, 128) & (128,) & (128, 128, 128) \\\\\n",
      "lr\\_critic           & 0.0005 & 0.001 & 0.0007 \\\\\n",
      "actor\\_hidden        & (128, 128, 128) & (128,) & (128, 128, 128) \\\\\n",
      "lr\\_actor            & 0.0001 & 0.001 & 0.0007 \\\\\n",
      "n\\_steps             & 16 & 32 & 128 \\\\\n",
      "gae\\_lambda          & 0.95 & 1 & 1 \\\\\n",
      "normalise\\_advantage & False & False & True \\\\\n",
      "e\\_coef              & 0.1 & 0.1 & 0.01 \\\\\n",
      "v\\_coef              & 0.5 & 0.5 & 0.1 \\\\\n",
      "max\\_grad\\_norm      & 10 & 50 & 1\n",
      "------------\n",
      "scale                & 500 & 500 & 1 \\\\\n",
      "$\\rho$               & 0.005 & 0.01 & 0.01 \\\\\n",
      "global\\_steps        & 5.0e+05 & 1.5e+06 & 7.5e+05 \\\\\n",
      "critic\\_hidden       & (32, 32, 32) & (128, 128) & (64,) \\\\\n",
      "lr\\_critic           & 0.0005 & 0.0001 & 0.001 \\\\\n",
      "actor\\_hidden        & (64, 64) & (128, 128) & (64,) \\\\\n",
      "lr\\_actor            & 0.0005 & 0.001 & 0.001 \\\\\n",
      "n\\_steps             & 128 & 128 & 64 \\\\\n",
      "gae\\_lambda          & 0.95 & 1 & 0.95 \\\\\n",
      "normalise\\_advantage & False & True & False \\\\\n",
      "e\\_coef              & 0.05 & 0.01 & 0.1 \\\\\n",
      "v\\_coef              & 0.3 & 0.1 & 0.1 \\\\\n",
      "max\\_grad\\_norm      & 1 & 0.5 & 0.5 \\\\\n",
      "clip\\_coef           & 0.5 & 0.4 & 0.4 \\\\\n",
      "num\\_envs            & 2 & 4 & 8 \\\\\n",
      "anneal\\_lr           & True & True & True \\\\\n",
      "clip\\_range\\_vf      & 0.4 & 0.3 & 0.3 \\\\\n",
      "update\\_epochs       & 2 & 16 & 16 \\\\\n",
      "num\\_minibatches     & 8 & 4 & 4\n",
      "------------\n"
     ]
    }
   ],
   "source": [
    "for alg, rep_run_lst in rep_runs.items():\n",
    "    configs = OrderedDict()\n",
    "    for env_run in rep_run_lst:\n",
    "        config = api.run(env_run).config\n",
    "        for param_name, param in config_names.items():\n",
    "            if param_name in config:\n",
    "                if param not in configs:\n",
    "                    configs[param] = []\n",
    "                configs[param].append(config[param_name])\n",
    "\n",
    "    tabilize(configs)\n",
    "    print(\"------------\")"
   ],
   "metadata": {
    "collapsed": false,
    "ExecuteTime": {
     "end_time": "2023-10-27T08:48:09.963670Z",
     "start_time": "2023-10-27T08:48:07.957956Z"
    }
   },
   "id": "7bcd9471bf06c742"
  },
  {
   "cell_type": "code",
   "execution_count": null,
   "outputs": [],
   "source": [],
   "metadata": {
    "collapsed": false
   },
   "id": "5912089f2c7493d8"
  }
 ],
 "metadata": {
  "kernelspec": {
   "display_name": "Python 3",
   "language": "python",
   "name": "python3"
  },
  "language_info": {
   "codemirror_mode": {
    "name": "ipython",
    "version": 2
   },
   "file_extension": ".py",
   "mimetype": "text/x-python",
   "name": "python",
   "nbconvert_exporter": "python",
   "pygments_lexer": "ipython2",
   "version": "2.7.6"
  }
 },
 "nbformat": 4,
 "nbformat_minor": 5
}
