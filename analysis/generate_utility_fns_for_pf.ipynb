{
 "cells": [
  {
   "cell_type": "code",
   "outputs": [],
   "source": [
    "import os\n",
    "import numpy as np\n",
    "from utility_function.generate_utility_fns import generate_utility_fns, save_utility_fns"
   ],
   "metadata": {
    "collapsed": false,
    "ExecuteTime": {
     "end_time": "2024-05-18T06:47:45.357275Z",
     "start_time": "2024-05-18T06:47:44.802437Z"
    }
   },
   "id": "32c397b31b600db2",
   "execution_count": 1
  },
  {
   "cell_type": "code",
   "outputs": [],
   "source": [
    "environments = ['deep-sea-treasure-concave-v0', 'minecart-v0', 'mo-reacher-v4']\n",
    "num_utility_fns = 100\n",
    "fn_type = 'increasing_cumsum'\n",
    "num_points = 6\n",
    "max_grad = 5\n",
    "seed = 0"
   ],
   "metadata": {
    "collapsed": false,
    "ExecuteTime": {
     "end_time": "2024-05-18T06:47:45.360740Z",
     "start_time": "2024-05-18T06:47:45.358659Z"
    }
   },
   "id": "8b8634990797bf5d",
   "execution_count": 2
  },
  {
   "cell_type": "code",
   "outputs": [
    {
     "name": "stdout",
     "output_type": "stream",
     "text": [
      "Generating utility functions for deep-sea-treasure-concave-v0...\n",
      "-----\n",
      "Generating utility functions for minecart-v0...\n",
      "-----\n",
      "Generating utility functions for mo-reacher-v4...\n",
      "-----\n",
      "All utility functions saved!\n"
     ]
    }
   ],
   "source": [
    "for env_id in environments:\n",
    "    joint_front_path = os.path.join('fronts', env_id, 'joint_front.npy')\n",
    "    joint_front = np.load(joint_front_path)\n",
    "    nadir = np.min(joint_front, axis=0)\n",
    "    ideal = np.max(joint_front, axis=0)\n",
    "    print(f'Generating utility functions for {env_id}...')\n",
    "    u_fns = generate_utility_fns(\n",
    "        nadir,\n",
    "        ideal,\n",
    "        num_utility_fns,\n",
    "        fn_type=fn_type,\n",
    "        num_points=num_points,\n",
    "        max_grad=max_grad,\n",
    "        seed=seed,\n",
    "        bounds_error=False,\n",
    "        fill_value=0.\n",
    "    )\n",
    "    u_dir = os.path.join('metrics', 'utility_fns', fn_type, env_id)\n",
    "    save_utility_fns(u_fns, u_dir)\n",
    "    print('-----')\n",
    "print(f'All utility functions saved!')"
   ],
   "metadata": {
    "collapsed": false,
    "ExecuteTime": {
     "end_time": "2024-05-18T06:47:45.395451Z",
     "start_time": "2024-05-18T06:47:45.361673Z"
    }
   },
   "id": "6c633dc7fb1eb932",
   "execution_count": 3
  },
  {
   "cell_type": "code",
   "outputs": [],
   "source": [],
   "metadata": {
    "collapsed": false,
    "ExecuteTime": {
     "end_time": "2024-05-18T06:47:45.397453Z",
     "start_time": "2024-05-18T06:47:45.396188Z"
    }
   },
   "id": "75c4d6732fdaf2cd",
   "execution_count": 3
  }
 ],
 "metadata": {
  "kernelspec": {
   "display_name": "Python 3",
   "language": "python",
   "name": "python3"
  },
  "language_info": {
   "codemirror_mode": {
    "name": "ipython",
    "version": 2
   },
   "file_extension": ".py",
   "mimetype": "text/x-python",
   "name": "python",
   "nbconvert_exporter": "python",
   "pygments_lexer": "ipython2",
   "version": "2.7.6"
  }
 },
 "nbformat": 4,
 "nbformat_minor": 5
}
