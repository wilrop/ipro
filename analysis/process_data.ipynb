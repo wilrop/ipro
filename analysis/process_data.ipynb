{
 "cells": [
  {
   "cell_type": "code",
   "execution_count": null,
   "id": "13d68488e5e6a000",
   "metadata": {
    "collapsed": false
   },
   "outputs": [],
   "source": [
    "import os\n",
    "import pandas as pd"
   ]
  },
  {
   "cell_type": "code",
   "outputs": [],
   "source": [
    "environments = ['deep-sea-treasure-concave-v0', 'minecart-v0', 'mo-reacher-v4', 'mo-reacher-concave-v0']\n",
    "algorithms = ['PCN', 'SN-MO-DQN', 'SN-MO-A2C', 'SN-MO-PPO']\n",
    "metrics = [('mul', 1.), ('eu', 0.)]\n",
    "num_seeds = 5"
   ],
   "metadata": {
    "collapsed": false
   },
   "id": "d0810528d5e5054b",
   "execution_count": null
  },
  {
   "cell_type": "code",
   "outputs": [],
   "source": [
    "for alg in algorithms:\n",
    "    for env_id in environments:\n",
    "        for metric, init_val in metrics:\n",
    "            print(f'Processing {alg} - {env_id}')\n",
    "            env_path = os.path.join('metrics', env_id)\n",
    "            unprocessed_alg_path = os.path.join(env_path, f'{alg}_unprocessed_{metric}.csv')\n",
    "            alg_df = pd.read_csv(unprocessed_alg_path)\n",
    "            new_data = []\n",
    "            unique_steps = alg_df['Step'].unique()\n",
    "            unique_steps = sorted(unique_steps)\n",
    "            \n",
    "            for seed in range(num_seeds):\n",
    "                last_val = init_val\n",
    "                seed_df = alg_df[alg_df['Seed'] == seed]\n",
    "                for step in unique_steps:\n",
    "                    step_df = seed_df[seed_df['Step'] == step]\n",
    "                    if len(step_df) == 0:\n",
    "                        new_data.append([step, seed, last_val])\n",
    "                    else:\n",
    "                        last_val = step_df[metric.upper()].values[0]\n",
    "                        new_data.append([step, seed, last_val])\n",
    "            \n",
    "            new_df = pd.DataFrame(new_data, columns=['Step', 'Seed', metric.upper()])\n",
    "            processed_alg_path = os.path.join(env_path, f'{alg}_{metric}.csv')\n",
    "            new_df.to_csv(processed_alg_path, index=False)\n",
    "            print('--------')"
   ],
   "metadata": {
    "collapsed": false
   },
   "id": "2333922d28f45faa",
   "execution_count": null
  },
  {
   "cell_type": "code",
   "outputs": [],
   "source": [],
   "metadata": {
    "collapsed": false
   },
   "id": "da6e4438f46ac1cf",
   "execution_count": null
  }
 ],
 "metadata": {
  "kernelspec": {
   "display_name": "Python 3",
   "language": "python",
   "name": "python3"
  },
  "language_info": {
   "codemirror_mode": {
    "name": "ipython",
    "version": 2
   },
   "file_extension": ".py",
   "mimetype": "text/x-python",
   "name": "python",
   "nbconvert_exporter": "python",
   "pygments_lexer": "ipython2",
   "version": "2.7.6"
  }
 },
 "nbformat": 4,
 "nbformat_minor": 5
}
