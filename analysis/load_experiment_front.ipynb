{
 "cells": [
  {
   "cell_type": "code",
   "execution_count": 1,
   "id": "initial_id",
   "metadata": {
    "collapsed": true,
    "ExecuteTime": {
     "end_time": "2024-05-10T09:11:21.813763Z",
     "start_time": "2024-05-10T09:11:21.689262Z"
    }
   },
   "outputs": [],
   "source": [
    "import os\n",
    "import numpy as np\n",
    "from utils.pareto import extreme_prune"
   ]
  },
  {
   "cell_type": "code",
   "outputs": [],
   "source": [
    "environments = ['deep-sea-treasure-concave-v0', 'minecart-v0', 'mo-reacher-v4']\n",
    "algorithms = ['PCN', 'GPI-LS', 'Envelope', 'IPRO-DQN', 'IPRO-A2C', 'IPRO-PPO']\n",
    "seeds = [0, 1, 2, 3, 4]\n",
    "top_dir = 'artifacts'"
   ],
   "metadata": {
    "collapsed": false,
    "ExecuteTime": {
     "end_time": "2024-05-10T09:11:21.820829Z",
     "start_time": "2024-05-10T09:11:21.818145Z"
    }
   },
   "id": "566037b346da9434",
   "execution_count": 2
  },
  {
   "cell_type": "code",
   "outputs": [
    {
     "ename": "FileNotFoundError",
     "evalue": "[Errno 2] No such file or directory: 'artifacts/deep-sea-treasure-concave-v0/PCN/1'",
     "output_type": "error",
     "traceback": [
      "\u001B[0;31m---------------------------------------------------------------------------\u001B[0m",
      "\u001B[0;31mFileNotFoundError\u001B[0m                         Traceback (most recent call last)",
      "Cell \u001B[0;32mIn[4], line 5\u001B[0m\n\u001B[1;32m      3\u001B[0m \u001B[38;5;28;01mfor\u001B[39;00m seed \u001B[38;5;129;01min\u001B[39;00m seeds:\n\u001B[1;32m      4\u001B[0m     res_dir \u001B[38;5;241m=\u001B[39m os\u001B[38;5;241m.\u001B[39mpath\u001B[38;5;241m.\u001B[39mjoin(top_dir, environment, algorithm, \u001B[38;5;28mstr\u001B[39m(seed))\n\u001B[0;32m----> 5\u001B[0m     evals \u001B[38;5;241m=\u001B[39m \u001B[38;5;28msorted\u001B[39m([\u001B[38;5;28mint\u001B[39m(i) \u001B[38;5;28;01mfor\u001B[39;00m i \u001B[38;5;129;01min\u001B[39;00m \u001B[43mos\u001B[49m\u001B[38;5;241;43m.\u001B[39;49m\u001B[43mlistdir\u001B[49m\u001B[43m(\u001B[49m\u001B[43mres_dir\u001B[49m\u001B[43m)\u001B[49m])\n\u001B[1;32m      6\u001B[0m     fronts \u001B[38;5;241m=\u001B[39m []\n\u001B[1;32m      7\u001B[0m     \u001B[38;5;28;01mfor\u001B[39;00m \u001B[38;5;28meval\u001B[39m \u001B[38;5;129;01min\u001B[39;00m evals:\n",
      "\u001B[0;31mFileNotFoundError\u001B[0m: [Errno 2] No such file or directory: 'artifacts/deep-sea-treasure-concave-v0/PCN/1'"
     ]
    }
   ],
   "source": [
    "for environment in environments:\n",
    "    for algorithm in algorithms:\n",
    "        for seed in seeds:\n",
    "            res_dir = os.path.join(top_dir, environment, algorithm, str(seed))\n",
    "            evals = sorted([int(i) for i in os.listdir(res_dir)])\n",
    "            fronts = []\n",
    "            for eval in evals:  # Load front for a particular evaluation iteration.\n",
    "                eval_dir = os.path.join(res_dir, str(eval))\n",
    "                if not os.path.exists(eval_dir):\n",
    "                    continue\n",
    "                front_path = os.path.join(eval_dir, 'front.npy')\n",
    "                front = np.load(front_path)\n",
    "                fronts.append(front)\n",
    "            \n",
    "            # Merge and prune intermediate fronts.\n",
    "            exp_front = extreme_prune(np.concatenate(fronts, axis=0))\n",
    "            exp_front_path = os.path.join(res_dir, 'exp_front.npy')\n",
    "            np.save(exp_front_path, exp_front)"
   ],
   "metadata": {
    "collapsed": false,
    "ExecuteTime": {
     "end_time": "2024-05-10T09:11:38.600584Z",
     "start_time": "2024-05-10T09:11:38.574326Z"
    }
   },
   "id": "123f63966cb21b42",
   "execution_count": 4
  },
  {
   "cell_type": "code",
   "outputs": [],
   "source": [],
   "metadata": {
    "collapsed": false
   },
   "id": "66a91cde835e6e9b"
  }
 ],
 "metadata": {
  "kernelspec": {
   "display_name": "Python 3",
   "language": "python",
   "name": "python3"
  },
  "language_info": {
   "codemirror_mode": {
    "name": "ipython",
    "version": 2
   },
   "file_extension": ".py",
   "mimetype": "text/x-python",
   "name": "python",
   "nbconvert_exporter": "python",
   "pygments_lexer": "ipython2",
   "version": "2.7.6"
  }
 },
 "nbformat": 4,
 "nbformat_minor": 5
}
