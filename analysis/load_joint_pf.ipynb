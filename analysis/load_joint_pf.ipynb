{
 "cells": [
  {
   "cell_type": "code",
   "execution_count": 3,
   "id": "initial_id",
   "metadata": {
    "collapsed": true,
    "ExecuteTime": {
     "end_time": "2024-05-17T09:59:30.024916Z",
     "start_time": "2024-05-17T09:59:30.016615Z"
    }
   },
   "outputs": [],
   "source": [
    "import os\n",
    "import numpy as np\n",
    "from utils.pareto import extreme_prune"
   ]
  },
  {
   "cell_type": "code",
   "outputs": [],
   "source": [
    "environments = ['deep-sea-treasure-concave-v0',]# 'minecart-v0', 'mo-reacher-v4']\n",
    "algorithms = ['PCN', 'GPI-LS', 'Envelope', 'SN-MO-DQN',]# 'IPRO-A2C', 'IPRO-PPO']\n",
    "seeds = [0, 1, 2, 3, 4]"
   ],
   "metadata": {
    "collapsed": false,
    "ExecuteTime": {
     "end_time": "2024-05-17T09:59:30.188363Z",
     "start_time": "2024-05-17T09:59:30.186124Z"
    }
   },
   "id": "f96ff5ed0ccc1033",
   "execution_count": 4
  },
  {
   "cell_type": "code",
   "outputs": [],
   "source": [
    "for env_id in environments:\n",
    "    all_fronts = []\n",
    "    env_dir = os.path.join('fronts', env_id)\n",
    "    for algorithm in algorithms:\n",
    "        for seed in seeds:\n",
    "            res_dir = os.path.join(env_dir, algorithm, str(seed))\n",
    "            exp_front = np.load(os.path.join(res_dir, 'final_front.npy'))\n",
    "            all_fronts.append(exp_front)\n",
    "            \n",
    "    # Merge the fronts for all algorithms and seeds.\n",
    "    joint_front = np.concatenate(all_fronts)\n",
    "    joint_front = extreme_prune(joint_front)\n",
    "    joint_front_path = os.path.join(env_dir, 'joint_front.npy')\n",
    "    np.save(joint_front_path, joint_front)"
   ],
   "metadata": {
    "collapsed": false,
    "ExecuteTime": {
     "end_time": "2024-05-17T09:59:43.297770Z",
     "start_time": "2024-05-17T09:59:43.286028Z"
    }
   },
   "id": "195cbbbec8d87494",
   "execution_count": 6
  },
  {
   "cell_type": "code",
   "outputs": [],
   "source": [],
   "metadata": {
    "collapsed": false
   },
   "id": "2fad0cbc356b460d"
  }
 ],
 "metadata": {
  "kernelspec": {
   "display_name": "Python 3",
   "language": "python",
   "name": "python3"
  },
  "language_info": {
   "codemirror_mode": {
    "name": "ipython",
    "version": 2
   },
   "file_extension": ".py",
   "mimetype": "text/x-python",
   "name": "python",
   "nbconvert_exporter": "python",
   "pygments_lexer": "ipython2",
   "version": "2.7.6"
  }
 },
 "nbformat": 4,
 "nbformat_minor": 5
}
