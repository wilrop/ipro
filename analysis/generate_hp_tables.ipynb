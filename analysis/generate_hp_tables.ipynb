{
 "cells": [
  {
   "cell_type": "code",
   "execution_count": null,
   "id": "initial_id",
   "metadata": {
    "collapsed": true
   },
   "outputs": [],
   "source": [
    "import wandb\n",
    "import json\n",
    "from collections import OrderedDict"
   ]
  },
  {
   "cell_type": "code",
   "execution_count": null,
   "outputs": [],
   "source": [
    "def tabilize(results):\n",
    "    names = results.keys()\n",
    "    raw_data = list(results.values())\n",
    "    assert len(names) == len(raw_data)\n",
    "\n",
    "    max_len = max([len(v) for v in list(names)])\n",
    "    names_padded = [v + ' ' * (max_len - len(v)) for v in names]\n",
    "\n",
    "    data = []\n",
    "    for row in raw_data:\n",
    "        new_row = []\n",
    "        for v in row:\n",
    "            if isinstance(v, list):\n",
    "                new_row.append(tuple(v))\n",
    "            elif v > 999:\n",
    "                new_row.append(\"{:.1e}\".format(v))\n",
    "            else:\n",
    "                new_row.append(v)\n",
    "        data.append(new_row)\n",
    "\n",
    "    for i_row in range(len(names)):\n",
    "        line = ''\n",
    "        line += names_padded[i_row]\n",
    "        for idx, v in enumerate(data[i_row]):\n",
    "            line += ' & '\n",
    "            line += str(v)\n",
    "        if i_row < len(names) - 1:\n",
    "            line += ' \\\\\\\\'\n",
    "        print(line)"
   ],
   "metadata": {
    "collapsed": false
   },
   "id": "262e8819d7c0e4d2"
  },
  {
   "cell_type": "code",
   "outputs": [],
   "source": [
    "api = wandb.Api(timeout=120)"
   ],
   "metadata": {
    "collapsed": false
   },
   "id": "ee0fbb0b6e09d5f5",
   "execution_count": null
  },
  {
   "cell_type": "code",
   "outputs": [],
   "source": [
    "env_ids = ['deep-sea-treasure-concave-v0', 'minecart-v0', 'mo-reacher-v4']\n",
    "algs = ['SN-MO-DQN', 'SN-MO-A2C', 'SN-MO-PPO']\n",
    "rep_runs = {alg: {env_id: None for env_id in env_ids} for alg in algs}\n",
    "\n",
    "with open('data/best_parents.json') as f:\n",
    "    files = json.load(f)\n",
    "\n",
    "for env_id, env_dict in files.items():\n",
    "    for alg, run_ids in env_dict.items():\n",
    "        rep_runs[alg][env_id] = run_ids[0]"
   ],
   "metadata": {
    "collapsed": false
   },
   "id": "edd47a3ff9a91138",
   "execution_count": null
  },
  {
   "cell_type": "code",
   "execution_count": null,
   "outputs": [],
   "source": [
    "configs = {\n",
    "    'scale': [],\n",
    "    '$\\rho$': [],\n",
    "    'pretrain\\_iters': [],\n",
    "    'num\\_referents': [],\n",
    "    'online\\_steps': [],\n",
    "    'pretraining\\_steps': [],\n",
    "    'critic\\_hidden': [],\n",
    "    'lr\\_critic': [],\n",
    "    'actor\\_hidden': [],\n",
    "    'lr\\_actor': [],\n",
    "    'n\\_steps': [],\n",
    "    'gae\\_lambda': [],\n",
    "    'normalise\\_advantage': [],\n",
    "    'e\\_coef': [],\n",
    "    'v\\_coef': [],\n",
    "    'max\\_grad\\_norm': [],\n",
    "    'clip\\_coef': [],\n",
    "    'num\\_envs': [],\n",
    "    'anneal\\_lr': [],\n",
    "    'clip\\_range\\_vf': [],\n",
    "    'update\\_epochs': [],\n",
    "    'num\\_minibatches': [],\n",
    "    'batch\\_size': [],\n",
    "    'buffer\\_size': [],\n",
    "    'soft\\_update': [],\n",
    "    'pre\\_learning\\_start'\n",
    "    'pre\\_epsilon\\_start': [],\n",
    "    'pre\\_epsilon\\_end': [],\n",
    "    'pre\\_exploration\\_frac': [],\n",
    "    'online\\_learning\\_start': [],\n",
    "    'online\\_epsilon\\_start': [],\n",
    "    'online\\_epsilon\\_end': [],\n",
    "    'online\\_exploration\\_frac': [],\n",
    "}\n",
    "config_names = OrderedDict([\n",
    "    ('scale', 'scale'),\n",
    "    ('aug', '$\\\\rho$'),\n",
    "    ('pretrain_iters', 'pretrain\\_iters'),\n",
    "    ('num_referents', 'num\\_referents'),\n",
    "    ('online_steps', 'online\\_steps'),\n",
    "    ('pretraining_steps', 'pretraining\\_steps'),\n",
    "    ('critic_hidden', 'critic\\_hidden'),\n",
    "    ('hidden_layers', 'critic\\_hidden'),\n",
    "    ('lr_critic', 'lr\\_critic'),\n",
    "    ('lr', 'lr\\_critic'),\n",
    "    ('actor_hidden', 'actor\\_hidden'),\n",
    "    ('lr_actor', 'lr\\_actor'),\n",
    "    ('n_steps', 'n\\_steps'),\n",
    "    ('gae_lambda', 'gae\\_lambda'),\n",
    "    ('normalize_advantage', 'normalise\\_advantage'),\n",
    "    ('e_coef', 'e\\_coef'),\n",
    "    ('v_coef', 'v\\_coef'),\n",
    "    ('max_grad_norm', 'max\\_grad\\_norm'),\n",
    "    ('clip_coef', 'clip\\_coef'),\n",
    "    ('num_envs', 'num\\_envs'),\n",
    "    ('anneal_lr', 'anneal\\_lr'),\n",
    "    ('clip_range_vf', 'clip\\_range\\_vf'),\n",
    "    ('update_epochs', 'update\\_epochs'),\n",
    "    ('num_minibatches', 'num\\_minibatches'),\n",
    "    ('batch_size', 'batch\\_size'),\n",
    "    ('buffer_size', 'buffer\\_size'),\n",
    "    ('soft_update', 'soft\\_update'),\n",
    "    ('tau', 'soft\\_update'),\n",
    "    ('epsilon_start', 'epsilon\\_start'),\n",
    "    ('epsilon_end', 'epsilon\\_end'),\n",
    "    ('exploration_frac', 'exploration\\_frac'),\n",
    "    ('pre_learning_start', 'pre\\_learning\\_start'),\n",
    "    ('pre_epsilon_start', 'pre\\_epsilon\\_start'),\n",
    "    ('pre_epsilon_end', 'pre\\_epsilon\\_end'),\n",
    "    ('pre_exploration_frac', 'pre\\_exploration\\_frac'),\n",
    "    ('online_learning_start', 'online\\_learning\\_start'),\n",
    "    ('online_epsilon_start', 'online\\_epsilon\\_start'),\n",
    "    ('online_epsilon_end', 'online\\_epsilon\\_end'),\n",
    "    ('online_exploration_frac', 'online\\_exploration\\_frac'),\n",
    "])"
   ],
   "metadata": {
    "collapsed": false
   },
   "id": "d80d3ae8d308c33d"
  },
  {
   "cell_type": "code",
   "execution_count": null,
   "outputs": [],
   "source": [
    "for alg in algs:\n",
    "    print(f'Tabilizing {alg}')\n",
    "    configs = OrderedDict()\n",
    "    for env in env_ids:\n",
    "        alg_env_run = rep_runs[alg][env]\n",
    "        config = api.run(alg_env_run).config\n",
    "        for param_name, param in config_names.items():\n",
    "            if param_name in config:\n",
    "                if param not in configs:\n",
    "                    configs[param] = []\n",
    "                configs[param].append(config[param_name])\n",
    "\n",
    "    tabilize(configs)\n",
    "    print(\"------------\")"
   ],
   "metadata": {
    "collapsed": false
   },
   "id": "7bcd9471bf06c742"
  },
  {
   "cell_type": "code",
   "execution_count": null,
   "outputs": [],
   "source": [],
   "metadata": {
    "collapsed": false
   },
   "id": "5912089f2c7493d8"
  }
 ],
 "metadata": {
  "kernelspec": {
   "display_name": "Python 3",
   "language": "python",
   "name": "python3"
  },
  "language_info": {
   "codemirror_mode": {
    "name": "ipython",
    "version": 2
   },
   "file_extension": ".py",
   "mimetype": "text/x-python",
   "name": "python",
   "nbconvert_exporter": "python",
   "pygments_lexer": "ipython2",
   "version": "2.7.6"
  }
 },
 "nbformat": 4,
 "nbformat_minor": 5
}
