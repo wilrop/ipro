{
 "cells": [
  {
   "cell_type": "code",
   "execution_count": 20,
   "id": "initial_id",
   "metadata": {
    "collapsed": true,
    "ExecuteTime": {
     "end_time": "2024-05-17T08:23:38.746340Z",
     "start_time": "2024-05-17T08:23:38.738195Z"
    }
   },
   "outputs": [],
   "source": [
    "import wandb\n",
    "import os\n",
    "import json\n",
    "import numpy as np\n",
    "from environments.bounding_boxes import get_bounding_box\n",
    "from utils.pareto import extreme_prune"
   ]
  },
  {
   "cell_type": "code",
   "outputs": [],
   "source": [
    "api = wandb.Api(timeout=120)"
   ],
   "metadata": {
    "collapsed": false,
    "ExecuteTime": {
     "end_time": "2024-05-17T08:23:39.037273Z",
     "start_time": "2024-05-17T08:23:39.029408Z"
    }
   },
   "id": "7bd57f84fb2fae0b",
   "execution_count": 21
  },
  {
   "cell_type": "code",
   "outputs": [
    {
     "name": "stdout",
     "output_type": "stream",
     "text": [
      "Processing deep-sea-treasure-concave-v0\n",
      "Processing SN-MO-PPO\n",
      "Processing SN-MO-DQN\n",
      "Processing SN-MO-A2C\n",
      "Processing minecart-v0\n",
      "Processing SN-MO-PPO\n",
      "Processing SN-MO-DQN\n",
      "Processing SN-MO-A2C\n",
      "Processing mo-reacher-v4\n",
      "Processing SN-MO-PPO\n",
      "Processing SN-MO-DQN\n",
      "Processing SN-MO-A2C\n"
     ]
    }
   ],
   "source": [
    "with open('data/best_runs.json') as f:\n",
    "    files = json.load(f)\n",
    "\n",
    "for env_id, alg_dict in files.items():\n",
    "    print(f'Processing {env_id}')\n",
    "    _, maximals, _ = get_bounding_box(env_id)\n",
    "    for alg, runs in alg_dict.items():\n",
    "        print(f'Processing {alg}')\n",
    "        for run_path in runs:\n",
    "            run = api.run(run_path)\n",
    "            seed = run.config['seed']\n",
    "            pareto_points = []\n",
    "            for k, v  in run.summary.items():\n",
    "                if 'pareto_point' in k:\n",
    "                    idx = int(k.split('_')[-1])\n",
    "                    pareto_points.append((idx, np.array(v)))\n",
    "            pareto_points = sorted(pareto_points, key=lambda x: x[0])\n",
    "            partial_front = np.copy(maximals)\n",
    "            eval_fronts = [partial_front]\n",
    "            for _, point in pareto_points:\n",
    "                partial_front = np.copy(np.vstack((partial_front, point)))\n",
    "                eval_fronts.append(partial_front)\n",
    "            \n",
    "            for i, front in enumerate(eval_fronts):\n",
    "                front_path = os.path.join('fronts', env_id, alg, str(seed), f'front_{i}.npy')\n",
    "                os.makedirs(os.path.dirname(front_path), exist_ok=True)\n",
    "                np.save(front_path, front)\n",
    "            \n",
    "            final_front = extreme_prune(np.copy(partial_front))\n",
    "            final_front_path = os.path.join('fronts', env_id, alg, str(seed), 'final_front.npy')\n",
    "            os.makedirs(os.path.dirname(final_front_path), exist_ok=True)\n",
    "            np.save(final_front_path, final_front)"
   ],
   "metadata": {
    "collapsed": false,
    "ExecuteTime": {
     "end_time": "2024-05-17T08:23:40.483516Z",
     "start_time": "2024-05-17T08:23:39.287516Z"
    }
   },
   "id": "abc183a878ced3f4",
   "execution_count": 22
  },
  {
   "cell_type": "code",
   "outputs": [],
   "source": [],
   "metadata": {
    "collapsed": false
   },
   "id": "cf6405b48c87494d",
   "execution_count": null
  }
 ],
 "metadata": {
  "kernelspec": {
   "display_name": "Python 3",
   "language": "python",
   "name": "python3"
  },
  "language_info": {
   "codemirror_mode": {
    "name": "ipython",
    "version": 2
   },
   "file_extension": ".py",
   "mimetype": "text/x-python",
   "name": "python",
   "nbconvert_exporter": "python",
   "pygments_lexer": "ipython2",
   "version": "2.7.6"
  }
 },
 "nbformat": 4,
 "nbformat_minor": 5
}
