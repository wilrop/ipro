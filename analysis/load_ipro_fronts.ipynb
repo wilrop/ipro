{
 "cells": [
  {
   "cell_type": "code",
   "execution_count": null,
   "id": "initial_id",
   "metadata": {
    "collapsed": true
   },
   "outputs": [],
   "source": [
    "import wandb\n",
    "import json\n",
    "import pandas as pd\n",
    "import numpy as np"
   ]
  },
  {
   "cell_type": "code",
   "outputs": [],
   "source": [
    "api = wandb.Api(timeout=120)"
   ],
   "metadata": {
    "collapsed": false
   },
   "id": "7bd57f84fb2fae0b",
   "execution_count": null
  },
  {
   "cell_type": "code",
   "outputs": [],
   "source": [
    "with open('data/best_parents.json') as f:\n",
    "    files = json.load(f)\n",
    "\n",
    "for env_id, alg_dict in files.items():\n",
    "    print(f'Processing {env_id}')\n",
    "    for alg, (_, runs) in alg_dict.items():\n",
    "        print(f'Processing {alg}')\n",
    "        for run_path in runs:\n",
    "            run = api.run(run_path)\n",
    "            seed = run.config['seed']\n",
    "            if 'front' in run.summary:\n",
    "                front = np.array(run.summary['front'])\n",
    "            else:\n",
    "                output = run.file('output.log')\n",
    "                file = output.download(root=f'data/{env_id}/{alg}/{seed}', replace=True)\n",
    "                path = file.name\n",
    "\n",
    "                front = []\n",
    "                # Open as a text file\n",
    "                with open(path) as f:\n",
    "                    # Read the file contents and generate a list of lines\n",
    "                    lines = f.readlines()\n",
    "                    for line in lines:\n",
    "                        if 'Found' in line:\n",
    "                            split = line.split('[')[2].split(']')[0].split(' ')\n",
    "                            vec = []\n",
    "                            for val in split:\n",
    "                                if not val == '':\n",
    "                                    vec.append(float(val))\n",
    "                            front.append(vec)\n",
    "                front = np.array(front)\n",
    "                run.summary['front'] = front.tolist()\n",
    "                run.update()\n",
    "\n",
    "            num_objectives = front.shape[1]\n",
    "            columns = [f'obj_{i}' for i in range(num_objectives)]\n",
    "            df = pd.DataFrame(front, columns=columns)\n",
    "\n",
    "            # Save as a CSV to my directory\n",
    "            new_path = f'fronts/{env_id}/{alg}_{seed}.csv'\n",
    "            df.to_csv(new_path, index=False)"
   ],
   "metadata": {
    "collapsed": false
   },
   "id": "abc183a878ced3f4",
   "execution_count": null
  },
  {
   "cell_type": "code",
   "outputs": [],
   "source": [],
   "metadata": {
    "collapsed": false
   },
   "id": "cf6405b48c87494d",
   "execution_count": null
  }
 ],
 "metadata": {
  "kernelspec": {
   "display_name": "Python 3",
   "language": "python",
   "name": "python3"
  },
  "language_info": {
   "codemirror_mode": {
    "name": "ipython",
    "version": 2
   },
   "file_extension": ".py",
   "mimetype": "text/x-python",
   "name": "python",
   "nbconvert_exporter": "python",
   "pygments_lexer": "ipython2",
   "version": "2.7.6"
  }
 },
 "nbformat": 4,
 "nbformat_minor": 5
}
