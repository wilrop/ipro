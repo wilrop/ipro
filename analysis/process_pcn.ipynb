{
 "cells": [
  {
   "cell_type": "code",
   "execution_count": null,
   "id": "13d68488e5e6a000",
   "metadata": {
    "collapsed": false
   },
   "outputs": [],
   "source": [
    "import os\n",
    "import pandas as pd"
   ]
  },
  {
   "cell_type": "code",
   "outputs": [],
   "source": [
    "environments = ['deep-sea-treasure-concave-v0', 'minecart-v0', 'mo-reacher-v4']\n",
    "num_seeds = 5"
   ],
   "metadata": {
    "collapsed": false
   },
   "id": "d0810528d5e5054b",
   "execution_count": null
  },
  {
   "cell_type": "code",
   "outputs": [],
   "source": [
    "for env_id in environments:\n",
    "    print(f'Processing {env_id}')\n",
    "    env_path = os.path.join('metrics', env_id)\n",
    "    unprocessed_pcn_path = os.path.join(env_path, 'PCN_unprocessed_mul.csv')\n",
    "    pcn_df = pd.read_csv(unprocessed_pcn_path)\n",
    "    new_data = []\n",
    "    unique_steps = pcn_df['Step'].unique()\n",
    "    unique_steps = sorted(unique_steps)\n",
    "    \n",
    "    for seed in range(num_seeds):\n",
    "        last_mul = 1.\n",
    "        seed_df = pcn_df[pcn_df['Seed'] == seed]\n",
    "        for step in unique_steps:\n",
    "            step_df = seed_df[seed_df['Step'] == step]\n",
    "            if len(step_df) == 0:\n",
    "                new_data.append([step, seed, last_mul])\n",
    "            else:\n",
    "                last_mul = step_df['MUL'].values[0]\n",
    "                new_data.append([step, seed, last_mul])\n",
    "    \n",
    "    new_df = pd.DataFrame(new_data, columns=['Step', 'Seed', 'MUL'])\n",
    "    processed_pcn_path = os.path.join(env_path, 'PCN_mul.csv')\n",
    "    new_df.to_csv(processed_pcn_path, index=False)\n",
    "    print('--------')"
   ],
   "metadata": {
    "collapsed": false
   },
   "id": "2333922d28f45faa",
   "execution_count": null
  },
  {
   "cell_type": "code",
   "outputs": [],
   "source": [],
   "metadata": {
    "collapsed": false
   },
   "id": "da6e4438f46ac1cf",
   "execution_count": null
  }
 ],
 "metadata": {
  "kernelspec": {
   "display_name": "Python 3",
   "language": "python",
   "name": "python3"
  },
  "language_info": {
   "codemirror_mode": {
    "name": "ipython",
    "version": 2
   },
   "file_extension": ".py",
   "mimetype": "text/x-python",
   "name": "python",
   "nbconvert_exporter": "python",
   "pygments_lexer": "ipython2",
   "version": "2.7.6"
  }
 },
 "nbformat": 4,
 "nbformat_minor": 5
}
