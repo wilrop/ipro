{
 "cells": [
  {
   "cell_type": "code",
   "execution_count": 1,
   "id": "initial_id",
   "metadata": {
    "collapsed": true,
    "ExecuteTime": {
     "end_time": "2024-01-24T12:39:27.727714Z",
     "start_time": "2024-01-24T12:39:26.782272Z"
    }
   },
   "outputs": [],
   "source": [
    "import wandb\n",
    "import json\n",
    "import pandas as pd\n",
    "import numpy as np"
   ]
  },
  {
   "cell_type": "code",
   "outputs": [],
   "source": [
    "api = wandb.Api(timeout=120)\n",
    "baseline_runs = api.runs(\"wilrop/MORL-Baselines\")"
   ],
   "metadata": {
    "collapsed": false,
    "ExecuteTime": {
     "end_time": "2024-01-24T12:39:27.925321Z",
     "start_time": "2024-01-24T12:39:27.729628Z"
    }
   },
   "id": "5e305e841cbe683c",
   "execution_count": 2
  },
  {
   "cell_type": "code",
   "outputs": [],
   "source": [
    "for run in baseline_runs:\n",
    "    algo = run.config['algo']\n",
    "    env_id = run.config['env_id']\n",
    "    seed = run.config['seed']\n",
    "    file = run.file(run.summary['eval/front']['path']).download(root='data', exist_ok=True)\n",
    "    path = file.name\n",
    "    \n",
    "    # Load into a JSON file.\n",
    "    with open(f'{path}', 'r') as f:\n",
    "        front = json.load(f)\n",
    "    \n",
    "    front = np.array(front['data'])\n",
    "    num_objectives = front.shape[1]\n",
    "    columns = [f'obj_{i}' for i in range(num_objectives)]\n",
    "    df = pd.DataFrame(front, columns=columns)\n",
    "    \n",
    "    # Save as a CSV to my directory\n",
    "    new_path = f'fronts/{env_id}/{algo}_{seed}.csv'\n",
    "    df.to_csv(new_path, index=False)"
   ],
   "metadata": {
    "collapsed": false,
    "ExecuteTime": {
     "end_time": "2024-01-24T12:40:10.104097Z",
     "start_time": "2024-01-24T12:39:37.690154Z"
    }
   },
   "id": "133ff54ed4c2760a",
   "execution_count": 4
  },
  {
   "cell_type": "code",
   "outputs": [],
   "source": [],
   "metadata": {
    "collapsed": false,
    "ExecuteTime": {
     "start_time": "2024-01-24T12:39:29.201777Z"
    }
   },
   "id": "388bedeeb49afa41",
   "execution_count": null
  }
 ],
 "metadata": {
  "kernelspec": {
   "display_name": "Python 3",
   "language": "python",
   "name": "python3"
  },
  "language_info": {
   "codemirror_mode": {
    "name": "ipython",
    "version": 2
   },
   "file_extension": ".py",
   "mimetype": "text/x-python",
   "name": "python",
   "nbconvert_exporter": "python",
   "pygments_lexer": "ipython2",
   "version": "2.7.6"
  }
 },
 "nbformat": 4,
 "nbformat_minor": 5
}
