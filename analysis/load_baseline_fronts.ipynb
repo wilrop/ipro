{
 "cells": [
  {
   "cell_type": "code",
   "execution_count": 1,
   "id": "initial_id",
   "metadata": {
    "collapsed": true,
    "ExecuteTime": {
     "end_time": "2024-05-17T17:18:22.076685Z",
     "start_time": "2024-05-17T17:18:21.679393Z"
    }
   },
   "outputs": [],
   "source": [
    "import wandb\n",
    "import os\n",
    "import json\n",
    "import numpy as np\n",
    "from utils.pareto import extreme_prune"
   ]
  },
  {
   "cell_type": "code",
   "outputs": [],
   "source": [
    "api = wandb.Api(timeout=120)\n",
    "baseline_runs = api.runs(\"wilrop/MORL-Baselines-v1\")"
   ],
   "metadata": {
    "collapsed": false,
    "ExecuteTime": {
     "end_time": "2024-05-17T17:18:22.290053Z",
     "start_time": "2024-05-17T17:18:22.082204Z"
    }
   },
   "id": "5e305e841cbe683c",
   "execution_count": 2
  },
  {
   "cell_type": "code",
   "outputs": [
    {
     "name": "stdout",
     "output_type": "stream",
     "text": [
      "Processing deep-sea-treasure-concave-v0 - GPI-LS - 2\n",
      "Processing deep-sea-treasure-concave-v0 - GPI-LS - 3\n",
      "Processing deep-sea-treasure-concave-v0 - GPI-LS - 4\n",
      "Processing deep-sea-treasure-concave-v0 - GPI-LS - 0\n",
      "Processing deep-sea-treasure-concave-v0 - GPI-LS - 1\n",
      "Processing deep-sea-treasure-concave-v0 - PCN - 4\n",
      "Processing deep-sea-treasure-concave-v0 - PCN - 2\n",
      "Processing deep-sea-treasure-concave-v0 - PCN - 1\n",
      "Processing deep-sea-treasure-concave-v0 - PCN - 0\n",
      "Processing deep-sea-treasure-concave-v0 - PCN - 3\n",
      "Processing mo-reacher-v4 - PCN - 2\n",
      "Processing minecart-v0 - PCN - 2\n",
      "Processing minecart-v0 - PCN - 3\n",
      "Processing minecart-v0 - PCN - 1\n",
      "Processing minecart-v0 - PCN - 0\n",
      "Processing mo-reacher-v4 - PCN - 0\n",
      "Processing minecart-v0 - PCN - 4\n",
      "Processing mo-reacher-v4 - PCN - 1\n",
      "Processing mo-reacher-v4 - PCN - 4\n",
      "Processing mo-reacher-v4 - PCN - 3\n",
      "Processing deep-sea-treasure-concave-v0 - Envelope - 3\n",
      "Processing deep-sea-treasure-concave-v0 - Envelope - 0\n",
      "Processing deep-sea-treasure-concave-v0 - Envelope - 2\n",
      "Processing deep-sea-treasure-concave-v0 - Envelope - 4\n",
      "Processing deep-sea-treasure-concave-v0 - Envelope - 1\n",
      "Processing minecart-v0 - GPI-LS - 0\n",
      "Processing minecart-v0 - GPI-LS - 2\n",
      "Processing minecart-v0 - GPI-LS - 3\n",
      "Processing minecart-v0 - GPI-LS - 4\n",
      "Processing minecart-v0 - GPI-LS - 1\n",
      "Processing minecart-v0 - Envelope - 1\n",
      "Processing mo-reacher-v4 - GPI-LS - 2\n",
      "Processing mo-reacher-v4 - GPI-LS - 3\n",
      "Processing mo-reacher-v4 - GPI-LS - 4\n",
      "Processing minecart-v0 - Envelope - 4\n",
      "Processing mo-reacher-v4 - GPI-LS - 1\n",
      "Processing minecart-v0 - Envelope - 3\n",
      "Processing mo-reacher-v4 - Envelope - 4\n",
      "Processing mo-reacher-v4 - Envelope - 1\n",
      "Processing minecart-v0 - Envelope - 2\n",
      "Processing mo-reacher-v4 - Envelope - 2\n",
      "Processing mo-reacher-v4 - Envelope - 3\n",
      "Processing minecart-v0 - Envelope - 0\n",
      "Processing mo-reacher-v4 - GPI-LS - 0\n",
      "Processing mo-reacher-v4 - Envelope - 0\n"
     ]
    }
   ],
   "source": [
    "num_evals = 100\n",
    "for run in baseline_runs:\n",
    "    algo = run.config['algo']\n",
    "    env_id = run.config['env_id']\n",
    "    seed = run.config['seed']\n",
    "    eval_fronts = []\n",
    "    print(f'Processing {env_id} - {algo} - {seed}')\n",
    "    history_dicts = [h for h in run.scan_history(keys=['eval/front', 'global_step'])]\n",
    "    \n",
    "    if len(history_dicts) < num_evals:\n",
    "        interval = 1\n",
    "        offset = 0\n",
    "    else:\n",
    "        interval = len(history_dicts) // num_evals\n",
    "        offset = len(history_dicts) % num_evals\n",
    "        \n",
    "    for i, h in enumerate(history_dicts):\n",
    "        if (i + 1 - offset) % interval != 0:\n",
    "            continue\n",
    "        data_path = os.path.join('data', env_id, algo, str(seed))\n",
    "        pf_path = h['eval/front']['path']\n",
    "        combined_path = os.path.join(data_path, pf_path)\n",
    "        run.file(pf_path).download(root=data_path)\n",
    "\n",
    "        with open(combined_path, 'r') as f:\n",
    "            front_data = json.load(f)\n",
    "            front = np.array(front_data['data'])\n",
    "            eval_fronts.append((h['global_step'], front))\n",
    "    \n",
    "    eval_fronts = sorted(eval_fronts, key=lambda x: x[0])\n",
    "    \n",
    "    for i, eval_front in eval_fronts:\n",
    "        front_path = os.path.join('fronts', env_id, algo, str(seed), f'front_{i}.npy')\n",
    "        os.makedirs(os.path.dirname(front_path), exist_ok=True)\n",
    "        np.save(front_path, eval_front)\n",
    "    \n",
    "    merged_fronts = np.concatenate([front for _, front in eval_fronts], axis=0)\n",
    "    final_front = extreme_prune(merged_fronts)\n",
    "    final_front_path = os.path.join('fronts', env_id, algo, str(seed), 'final_front.npy')\n",
    "    os.makedirs(os.path.dirname(final_front_path), exist_ok=True)\n",
    "    np.save(final_front_path, final_front)"
   ],
   "metadata": {
    "collapsed": false,
    "ExecuteTime": {
     "end_time": "2024-05-17T18:15:17.419315Z",
     "start_time": "2024-05-17T17:18:22.290816Z"
    }
   },
   "id": "133ff54ed4c2760a",
   "execution_count": 3
  },
  {
   "cell_type": "code",
   "outputs": [],
   "source": [],
   "metadata": {
    "collapsed": false,
    "ExecuteTime": {
     "end_time": "2024-05-17T18:15:17.426379Z",
     "start_time": "2024-05-17T18:15:17.422160Z"
    }
   },
   "id": "388bedeeb49afa41",
   "execution_count": 3
  }
 ],
 "metadata": {
  "kernelspec": {
   "display_name": "Python 3",
   "language": "python",
   "name": "python3"
  },
  "language_info": {
   "codemirror_mode": {
    "name": "ipython",
    "version": 2
   },
   "file_extension": ".py",
   "mimetype": "text/x-python",
   "name": "python",
   "nbconvert_exporter": "python",
   "pygments_lexer": "ipython2",
   "version": "2.7.6"
  }
 },
 "nbformat": 4,
 "nbformat_minor": 5
}
